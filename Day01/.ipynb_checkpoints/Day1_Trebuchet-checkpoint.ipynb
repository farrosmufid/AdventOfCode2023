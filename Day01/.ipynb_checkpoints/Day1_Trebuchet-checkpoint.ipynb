{
 "cells": [
  {
   "cell_type": "code",
   "execution_count": 21,
   "metadata": {},
   "outputs": [
    {
     "data": {
      "text/plain": [
       "55208"
      ]
     },
     "execution_count": 21,
     "metadata": {},
     "output_type": "execute_result"
    }
   ],
   "source": [
    "# Part 1\n",
    "\n",
    "with open(\"input.txt\") as file:\n",
    "    sum_digit = 0\n",
    "\n",
    "    for item in file:\n",
    "        digits = ''\n",
    "\n",
    "        # First digit\n",
    "        for val in item:\n",
    "            if val.isdigit():\n",
    "                digits += val\n",
    "                break\n",
    "\n",
    "        # Last digit\n",
    "        for val in item[::-1]:\n",
    "            if val.isdigit():\n",
    "                digits += val\n",
    "                break\n",
    "        \n",
    "        digits_val = int(digits)\n",
    "        sum_digit += digits_val\n",
    "\n",
    "sum_digit"
   ]
  },
  {
   "cell_type": "code",
   "execution_count": 80,
   "metadata": {},
   "outputs": [
    {
     "data": {
      "text/plain": [
       "54578"
      ]
     },
     "execution_count": 80,
     "metadata": {},
     "output_type": "execute_result"
    }
   ],
   "source": [
    "# Part 2\n",
    "\n",
    "number_dict = {\n",
    "    'one': 1,\n",
    "    'two': 2,\n",
    "    'three': 3,\n",
    "    'four': 4,\n",
    "    'five': 5,\n",
    "    'six': 6,\n",
    "    'seven': 7,\n",
    "    'eight': 8,\n",
    "    'nine': 9,\n",
    "    '0': 0,\n",
    "    '1': 1,\n",
    "    '2': 2,\n",
    "    '3': 3,\n",
    "    '4': 4,\n",
    "    '5': 5,\n",
    "    '6': 6,\n",
    "    '7': 7,\n",
    "    '8': 8,\n",
    "    '9': 9\n",
    "}\n",
    "\n",
    "with open(\"input.txt\") as file:\n",
    "    sum_digit = 0\n",
    "\n",
    "    for item in file:\n",
    "        min_index = float('inf')\n",
    "        max_index = float('-inf')\n",
    "\n",
    "        num_string_min = ''\n",
    "        num_string_max = ''\n",
    "\n",
    "        digits = ''\n",
    "\n",
    "        for k in number_dict.keys():\n",
    "            index = item.find(k)\n",
    "            if index != -1:\n",
    "                if index < min_index:\n",
    "                    min_index = index\n",
    "                    num_string_min = str(number_dict[k])\n",
    "        \n",
    "            index = item.rfind(k)\n",
    "            if index != -1:\n",
    "                if index > max_index:\n",
    "                    max_index = index\n",
    "                    num_string_max = str(number_dict[k])\n",
    "            \n",
    "        digits = num_string_min + num_string_max\n",
    "        digits_int = int(digits)\n",
    "        \n",
    "        sum_digit += digits_int\n",
    "\n",
    "sum_digit"
   ]
  }
 ],
 "metadata": {
  "kernelspec": {
   "display_name": "Python 3 (ipykernel)",
   "language": "python",
   "name": "python3"
  },
  "language_info": {
   "codemirror_mode": {
    "name": "ipython",
    "version": 3
   },
   "file_extension": ".py",
   "mimetype": "text/x-python",
   "name": "python",
   "nbconvert_exporter": "python",
   "pygments_lexer": "ipython3",
   "version": "3.10.7"
  }
 },
 "nbformat": 4,
 "nbformat_minor": 2
}

{
 "cells": [
  {
   "cell_type": "code",
   "execution_count": 72,
   "metadata": {},
   "outputs": [],
   "source": [
    "import re\n",
    "import numpy as np"
   ]
  },
  {
   "cell_type": "code",
   "execution_count": 47,
   "metadata": {},
   "outputs": [],
   "source": [
    "# Day 02: Cube Conondrum Part 1\n",
    "\n",
    "with open(\"input.txt\") as file:\n",
    "    colours_list = []\n",
    "\n",
    "    for line in file:\n",
    "        colour_list = []\n",
    "        words = re.split(';|:', line)\n",
    "        for w in words:\n",
    "            colour = re.split(',', w)\n",
    "            rgb_list = [0, 0, 0]\n",
    "            for c in colour:\n",
    "                if 'Game' in c:\n",
    "                    rgb_list = []\n",
    "                    rgb_list.append(''.join(x for x in c if x.isdigit()))\n",
    "                    continue\n",
    "                if 'red' in c:\n",
    "                    rgb_list[0] = ''.join(x for x in c if x.isdigit())\n",
    "                if 'green' in c:\n",
    "                    rgb_list[1] = ''.join(x for x in c if x.isdigit())\n",
    "                if 'blue' in c:\n",
    "                    rgb_list[2] = ''.join(x for x in c if x.isdigit())\n",
    "            \n",
    "            colour_list.append(rgb_list) \n",
    "        colours_list.append(colour_list)"
   ]
  },
  {
   "cell_type": "code",
   "execution_count": 53,
   "metadata": {},
   "outputs": [],
   "source": [
    "possible_list = [12, 13, 14]\n",
    "\n",
    "possible_ids = []\n",
    "\n",
    "for colour_list in colours_list:\n",
    "    flag = True\n",
    "\n",
    "    for i in range(1, len(colour_list)):\n",
    "        current_comb = colour_list[i]\n",
    "        for j in range(0, len(current_comb)):\n",
    "            if int(current_comb[j]) > possible_list[j]:\n",
    "                flag = False\n",
    "    if flag == True:\n",
    "        possible_ids.append(int(colour_list[0][0]))"
   ]
  },
  {
   "cell_type": "code",
   "execution_count": 57,
   "metadata": {},
   "outputs": [
    {
     "data": {
      "text/plain": [
       "2061"
      ]
     },
     "execution_count": 57,
     "metadata": {},
     "output_type": "execute_result"
    }
   ],
   "source": [
    "sum(possible_ids)"
   ]
  },
  {
   "cell_type": "code",
   "execution_count": 67,
   "metadata": {},
   "outputs": [],
   "source": [
    "# Day 02: Cube Conondrum Part 2\n",
    "\n",
    "minimum_sets = []\n",
    "\n",
    "for colour_list in colours_list:\n",
    "    minimum_set = [0, 0, 0]\n",
    "\n",
    "    for i in range(1, len(colour_list)):\n",
    "        current_comb = colour_list[i]\n",
    "\n",
    "        if int(current_comb[0]) > minimum_set[0]:\n",
    "            minimum_set[0] = int(current_comb[0])\n",
    "        if int(current_comb[1]) > minimum_set[1]:\n",
    "            minimum_set[1] = int(current_comb[1])\n",
    "        if int(current_comb[2]) > minimum_set[2]:\n",
    "            minimum_set[2] = int(current_comb[2])\n",
    "    \n",
    "    minimum_sets.append(minimum_set)"
   ]
  },
  {
   "cell_type": "code",
   "execution_count": 73,
   "metadata": {},
   "outputs": [],
   "source": [
    "sum_result_mult = 0\n",
    "\n",
    "for minimum_set in minimum_sets:\n",
    "    result_mult = np.prod(minimum_set)\n",
    "\n",
    "    sum_result_mult += result_mult"
   ]
  },
  {
   "cell_type": "code",
   "execution_count": 74,
   "metadata": {},
   "outputs": [
    {
     "data": {
      "text/plain": [
       "72596"
      ]
     },
     "execution_count": 74,
     "metadata": {},
     "output_type": "execute_result"
    }
   ],
   "source": [
    "sum_result_mult"
   ]
  }
 ],
 "metadata": {
  "kernelspec": {
   "display_name": "Python 3",
   "language": "python",
   "name": "python3"
  },
  "language_info": {
   "codemirror_mode": {
    "name": "ipython",
    "version": 3
   },
   "file_extension": ".py",
   "mimetype": "text/x-python",
   "name": "python",
   "nbconvert_exporter": "python",
   "pygments_lexer": "ipython3",
   "version": "3.10.7"
  }
 },
 "nbformat": 4,
 "nbformat_minor": 2
}

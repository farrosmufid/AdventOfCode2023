{
 "cells": [
  {
   "cell_type": "code",
   "execution_count": 46,
   "metadata": {},
   "outputs": [],
   "source": [
    "import re"
   ]
  },
  {
   "cell_type": "code",
   "execution_count": 236,
   "metadata": {},
   "outputs": [],
   "source": [
    "# Day 04: Scratchcards\n",
    "\n",
    "with open(\"input.txt\") as file:\n",
    "    data = file.read()\n",
    "    lines = data.strip().split(\"\\n\")"
   ]
  },
  {
   "cell_type": "code",
   "execution_count": 237,
   "metadata": {},
   "outputs": [
    {
     "data": {
      "text/plain": [
       "['Card   1:  9 39 27 89 87 29 54 19 43 45 |  9 80 29 20 54 58 78 77 39 35 76 79 19 87 45 89 23 31 94 34 67 43 56 50 27',\n",
       " 'Card   2: 89 59 76  2 60 83 21 37 92 45 | 79  5 41 92 45 59 72 50 89 37 64 65 60 54 57 22 66 21 25 76  1 39 83  2 33',\n",
       " 'Card   3: 40 25 13 65 86  5 35 87  9 30 | 87 76 30 93  5 45 16 40 48 89 78 59 18 12 71 85 66 21 80 28 50 60 49 72 27',\n",
       " 'Card   4: 21 34 70 83 66 44 90 68 76 12 | 46 80 70 73 44 99 32 98 66 68 76 28 85 74 17 38 27 22 83 16 12 90 33 34 21',\n",
       " 'Card   5:  5 67 90 43 26 31 17 47 14  1 | 83 64 47 24 33  5 90 20 19 61 14 56 67 26  1 70 31  9 17 57 43 95 82 91 49']"
      ]
     },
     "execution_count": 237,
     "metadata": {},
     "output_type": "execute_result"
    }
   ],
   "source": [
    "lines[0:5]"
   ]
  },
  {
   "cell_type": "code",
   "execution_count": 238,
   "metadata": {},
   "outputs": [],
   "source": [
    "total_points = 0\n",
    "for line in lines:\n",
    "    split_card = re.split(\":|\\|\", line)\n",
    "    card_id = split_card[0].strip()\n",
    "\n",
    "    winning_numbers = {int(val) for val in split_card[1].strip().split()}\n",
    "    numbers = {int(val) for val in split_card[2].strip().split()}\n",
    "\n",
    "    u = set.intersection(winning_numbers, numbers)\n",
    "\n",
    "    if u:\n",
    "        total_points += 2**(len(u) - 1)"
   ]
  },
  {
   "cell_type": "code",
   "execution_count": 239,
   "metadata": {},
   "outputs": [
    {
     "data": {
      "text/plain": [
       "27059"
      ]
     },
     "execution_count": 239,
     "metadata": {},
     "output_type": "execute_result"
    }
   ],
   "source": [
    "total_points"
   ]
  },
  {
   "cell_type": "code",
   "execution_count": 240,
   "metadata": {},
   "outputs": [],
   "source": [
    "# Day 04: Scratchcards Part 2 Example\n",
    "\n",
    "with open(\"input_example.txt\") as file:\n",
    "    data = file.read()\n",
    "    lines = data.strip().split(\"\\n\")"
   ]
  },
  {
   "cell_type": "code",
   "execution_count": 241,
   "metadata": {},
   "outputs": [],
   "source": [
    "result = {}\n",
    "\n",
    "total_points = 0\n",
    "for line in lines:\n",
    "    split_card = re.split(\":|\\|\", line)\n",
    "    card_id = split_card[0].strip().split()[1]\n",
    "    card_id = int(card_id)\n",
    "\n",
    "    winning_numbers = {int(val) for val in split_card[1].strip().split()}\n",
    "    numbers = {int(val) for val in split_card[2].strip().split()}\n",
    "\n",
    "    u = set.intersection(winning_numbers, numbers)\n",
    "\n",
    "    if u:\n",
    "        result[card_id] = [card_id + i for i in range(1, len(u) + 1)]\n",
    "    else:\n",
    "        result[card_id] = []"
   ]
  },
  {
   "cell_type": "code",
   "execution_count": 242,
   "metadata": {},
   "outputs": [
    {
     "data": {
      "text/plain": [
       "{1: [2, 3, 4, 5], 2: [3, 4], 3: [4, 5], 4: [5], 5: [], 6: []}"
      ]
     },
     "execution_count": 242,
     "metadata": {},
     "output_type": "execute_result"
    }
   ],
   "source": [
    "result"
   ]
  },
  {
   "cell_type": "code",
   "execution_count": 246,
   "metadata": {},
   "outputs": [],
   "source": [
    "# Calculate result\n",
    "\n",
    "# Initialise all cards to have 1 copy\n",
    "# card_copy = {card: 1 for card in result.keys()}"
   ]
  },
  {
   "cell_type": "code",
   "execution_count": 227,
   "metadata": {},
   "outputs": [
    {
     "data": {
      "text/plain": [
       "{1: 1, 2: 2, 3: 4, 4: 8, 5: 14, 6: 1}"
      ]
     },
     "execution_count": 227,
     "metadata": {},
     "output_type": "execute_result"
    }
   ],
   "source": [
    "'''\n",
    "The numerous for loops here suggest the need for a BFS. \n",
    "We should change this to use a queue.\n",
    "'''\n",
    "\n",
    "card_copy = {card: 0 for card in result.keys()}\n",
    "\n",
    "for key in result.keys():\n",
    "    card_copy[key] += 1\n",
    "    for nei in result[key]:\n",
    "        card_copy[nei] += 1 \n",
    "        for nei2 in result[nei]:\n",
    "            card_copy[nei2] += 1 \n",
    "            for nei3 in result[nei2]:\n",
    "                card_copy[nei3] += 1\n",
    "                for nei4 in result[nei3]:\n",
    "                    card_copy[nei4] += 1\n",
    "                    for nei5 in result[nei4]:\n",
    "                        card_copy[nei5] += 1\n",
    "                        for nei6 in result[nei5]:\n",
    "                            card_copy[nei6] += 1\n",
    "\n",
    "card_copy"
   ]
  },
  {
   "cell_type": "code",
   "execution_count": 232,
   "metadata": {},
   "outputs": [],
   "source": [
    "card_copy = {card: 0 for card in result.keys()}\n",
    "\n",
    "for key in result.keys():\n",
    "    queue = [(key, 0)]\n",
    "    while queue:\n",
    "        current_node, depth = queue.pop(0)\n",
    "        card_copy[current_node] += 1\n",
    "        if depth < len(card_copy):\n",
    "            for nei in result[current_node]:\n",
    "                queue.append((nei, depth + 1))"
   ]
  },
  {
   "cell_type": "code",
   "execution_count": 233,
   "metadata": {},
   "outputs": [
    {
     "data": {
      "text/plain": [
       "{1: 1, 2: 2, 3: 4, 4: 8, 5: 14, 6: 1}"
      ]
     },
     "execution_count": 233,
     "metadata": {},
     "output_type": "execute_result"
    }
   ],
   "source": [
    "card_copy"
   ]
  },
  {
   "cell_type": "code",
   "execution_count": 235,
   "metadata": {},
   "outputs": [
    {
     "data": {
      "text/plain": [
       "30"
      ]
     },
     "execution_count": 235,
     "metadata": {},
     "output_type": "execute_result"
    }
   ],
   "source": [
    "# Count the sum of card_copy\n",
    "\n",
    "card_count = 0\n",
    "for value in card_copy.values():\n",
    "    card_count += value\n",
    "\n",
    "card_count"
   ]
  },
  {
   "cell_type": "code",
   "execution_count": 243,
   "metadata": {},
   "outputs": [],
   "source": [
    "# Day 04: Scratchcards Part 2\n",
    "with open(\"input.txt\") as file:\n",
    "    data = file.read()\n",
    "    lines = data.strip().split(\"\\n\")"
   ]
  },
  {
   "cell_type": "code",
   "execution_count": 244,
   "metadata": {},
   "outputs": [],
   "source": [
    "result = {}\n",
    "\n",
    "total_points = 0\n",
    "for line in lines:\n",
    "    split_card = re.split(\":|\\|\", line)\n",
    "    card_id = split_card[0].strip().split()[1]\n",
    "    card_id = int(card_id)\n",
    "\n",
    "    winning_numbers = {int(val) for val in split_card[1].strip().split()}\n",
    "    numbers = {int(val) for val in split_card[2].strip().split()}\n",
    "\n",
    "    u = set.intersection(winning_numbers, numbers)\n",
    "\n",
    "    if u:\n",
    "        result[card_id] = [card_id + i for i in range(1, len(u) + 1)]\n",
    "    else:\n",
    "        result[card_id] = []"
   ]
  },
  {
   "cell_type": "code",
   "execution_count": 254,
   "metadata": {},
   "outputs": [
    {
     "name": "stdout",
     "output_type": "stream",
     "text": [
      "1 [2, 3, 4, 5, 6, 7, 8, 9, 10, 11]\n",
      "2 [3, 4, 5, 6, 7, 8, 9, 10, 11, 12]\n",
      "3 [4, 5, 6, 7]\n",
      "4 [5, 6, 7, 8, 9, 10, 11, 12, 13, 14]\n",
      "5 [6, 7, 8, 9, 10, 11, 12, 13, 14, 15]\n"
     ]
    }
   ],
   "source": [
    "stop_count = 0\n",
    "\n",
    "for key, val in result.items():\n",
    "    print(key, val)\n",
    "    stop_count += 1\n",
    "    if stop_count == 5:\n",
    "        break"
   ]
  },
  {
   "cell_type": "code",
   "execution_count": 247,
   "metadata": {},
   "outputs": [],
   "source": [
    "card_copy = {card: 0 for card in result.keys()}\n",
    "\n",
    "for key in result.keys():\n",
    "    queue = [(key, 0)]\n",
    "    while queue:\n",
    "        current_node, depth = queue.pop(0)\n",
    "        card_copy[current_node] += 1\n",
    "        if depth < len(card_copy):\n",
    "            for nei in result[current_node]:\n",
    "                queue.append((nei, depth + 1))"
   ]
  },
  {
   "cell_type": "code",
   "execution_count": 248,
   "metadata": {},
   "outputs": [
    {
     "data": {
      "text/plain": [
       "5744979"
      ]
     },
     "execution_count": 248,
     "metadata": {},
     "output_type": "execute_result"
    }
   ],
   "source": [
    "# Count the sum of card_copy\n",
    "\n",
    "card_count = 0\n",
    "for value in card_copy.values():\n",
    "    card_count += value\n",
    "\n",
    "card_count"
   ]
  },
  {
   "cell_type": "code",
   "execution_count": 265,
   "metadata": {},
   "outputs": [],
   "source": [
    "# Dynamic Programming\n",
    "\n",
    "card_copy = {key: 1 for key in result.keys()}  \n",
    "memo = {} \n",
    "\n",
    "def count_neighbors(node):\n",
    "    if node in memo:\n",
    "        return memo[node]\n",
    "\n",
    "    count = 1 \n",
    "    \n",
    "    for neighbor in result[node]:\n",
    "        count += count_neighbors(neighbor)\n",
    "        \n",
    "    memo[node] = count\n",
    "    \n",
    "    return count\n",
    "\n",
    "for key in result.keys():\n",
    "    card_copy[key] = count_neighbors(key)"
   ]
  },
  {
   "cell_type": "code",
   "execution_count": 266,
   "metadata": {},
   "outputs": [
    {
     "data": {
      "text/plain": [
       "5744979"
      ]
     },
     "execution_count": 266,
     "metadata": {},
     "output_type": "execute_result"
    }
   ],
   "source": [
    "# Count the sum of card_copy\n",
    "\n",
    "card_count = 0\n",
    "for value in card_copy.values():\n",
    "    card_count += value\n",
    "\n",
    "card_count"
   ]
  }
 ],
 "metadata": {
  "kernelspec": {
   "display_name": "Python 3",
   "language": "python",
   "name": "python3"
  },
  "language_info": {
   "codemirror_mode": {
    "name": "ipython",
    "version": 3
   },
   "file_extension": ".py",
   "mimetype": "text/x-python",
   "name": "python",
   "nbconvert_exporter": "python",
   "pygments_lexer": "ipython3",
   "version": "3.10.7"
  }
 },
 "nbformat": 4,
 "nbformat_minor": 2
}
